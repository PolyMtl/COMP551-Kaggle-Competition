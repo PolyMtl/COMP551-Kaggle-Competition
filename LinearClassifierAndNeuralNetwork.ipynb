{
 "cells": [
  {
   "cell_type": "markdown",
   "metadata": {},
   "source": [
    "# COMP551 -001 Kaggle Competition: Linear Classifier and Neural Net"
   ]
  },
  {
   "cell_type": "code",
   "execution_count": 162,
   "metadata": {},
   "outputs": [],
   "source": [
    "import numpy   as np   \n",
    "from scipy import ndimage\n",
    "import scipy.misc # to visualize only\n",
    "from scipy.misc import imresize\n",
    "from skimage.restoration import denoise_bilateral\n",
    "from sklearn.svm import SVC\n",
    "from sklearn.linear_model import LogisticRegression\n",
    "from matplotlib import pyplot as plt"
   ]
  },
  {
   "cell_type": "code",
   "execution_count": 2,
   "metadata": {
    "scrolled": true
   },
   "outputs": [
    {
     "name": "stdout",
     "output_type": "stream",
     "text": [
      "Loaded Train Set\n",
      "Loaded Test Set\n"
     ]
    }
   ],
   "source": [
    "X_train = np.loadtxt(\"Datasets/train_x.csv\", delimiter=\",\") # load from text \n",
    "print(\"Loaded Train Set\")\n",
    "Y_train = np.loadtxt(\"Datasets/train_y.csv\", delimiter=\",\") \n",
    "X_test = np.loadtxt(\"Datasets/test_x.csv\", delimiter=\",\")\n",
    "print(\"Loaded Test Set\")\n",
    "X_train = X_train.reshape(-1, 64, 64) # reshape \n",
    "Y_train = Y_train.reshape(-1, 1) \n",
    "X_test = X_test.reshape(-1, 64, 64) # reshape"
   ]
  },
  {
   "cell_type": "code",
   "execution_count": null,
   "metadata": {
    "collapsed": true
   },
   "outputs": [],
   "source": [
    "X_train[60][:,50]"
   ]
  },
  {
   "cell_type": "code",
   "execution_count": 212,
   "metadata": {
    "collapsed": true
   },
   "outputs": [],
   "source": [
    "####################### PREPROCESSING IMAGE ARRAYS #####################################\n",
    "X_train_processed = np.where(X_train>250, 1, 0)\n",
    "X_test_processed = np.where(X_test>250, 1, 0)"
   ]
  },
  {
   "cell_type": "code",
   "execution_count": 216,
   "metadata": {},
   "outputs": [
    {
     "data": {
      "image/png": "[encoded data removed]",
      "text/plain": [
       "<matplotlib.figure.Figure at 0x905e06a0>"
      ]
     },
     "metadata": {},
     "output_type": "display_data"
    },
    {
     "name": "stdout",
     "output_type": "stream",
     "text": [
      "[ 1.]\n"
     ]
    }
   ],
   "source": [
    "########################### VISUALIZING DATA ON DEFAULT TRAINING SET ###############################################\n",
    "num = 60\n",
    "plt.imshow(ndimage.median_filter(X_train[num],1)) # to visualize only\n",
    "plt.show()\n",
    "print(Y_train[num])"
   ]
  },
  {
   "cell_type": "code",
   "execution_count": 215,
   "metadata": {},
   "outputs": [
    {
     "data": {
      "image/png": "[encoded data removed]",
      "text/plain": [
       "<matplotlib.figure.Figure at 0x17401be10>"
      ]
     },
     "metadata": {},
     "output_type": "display_data"
    },
    {
     "name": "stdout",
     "output_type": "stream",
     "text": [
      "[ 1.]\n"
     ]
    }
   ],
   "source": [
    "########################### VISUALIZING DATA ON BINARIZED TRAINING SET ###############################################\n",
    "num = 60\n",
    "plt.imshow(X_train_processed[num]) # to visualize only\n",
    "plt.show()\n",
    "print(Y_train[num])"
   ]
  },
  {
   "cell_type": "code",
   "execution_count": 238,
   "metadata": {},
   "outputs": [
    {
     "name": "stdout",
     "output_type": "stream",
     "text": [
      "Area\n",
      "225\n",
      "Max Area\n",
      "0\n",
      "Area\n",
      "189\n",
      "Max Area\n",
      "225\n"
     ]
    }
   ],
   "source": [
    "############################ EXTRACTING THE LARGEST DIGIT AND CREATING A NEW TRAINING SET ####################################\n",
    "X_train_extracted = []\n",
    "\n",
    "for image in X_train_processed:\n",
    "    im = ndimage.median_filter(image, 1)\n",
    "\n",
    "    mask = im > im.mean()\n",
    "\n",
    "    label_im, nb_labels = ndimage.label(mask)\n",
    "\n",
    "    # Find the connected components\n",
    "    sizes = ndimage.sum(mask, label_im, range(nb_labels + 1))\n",
    "    mask_size = sizes < 70\n",
    "    remove_pixel = mask_size[label_im]\n",
    "    label_im[remove_pixel] = 0\n",
    "    labels = np.unique(label_im)\n",
    "    label_im = np.searchsorted(labels, label_im)\n",
    "\n",
    "    # Slice out the largest digit\n",
    "    best_slice_x, best_slice_y = 0,0\n",
    "    max_area = 0\n",
    "    for i in range(len(labels)-1):\n",
    "        slice_x, slice_y = ndimage.find_objects(label_im==i+1)[0]\n",
    "        area = (slice_x.stop - slice_x.start)*(slice_y.stop - slice_y.start)\n",
    "        if(np.array_equal(image, X_train_processed[60])):\n",
    "            print(\"Area\")\n",
    "            print(area)\n",
    "            print(\"Max Area\")\n",
    "            print(max_area)\n",
    "        if(area > max_area):\n",
    "            max_area = area\n",
    "            best_slice_x = slice_x\n",
    "            best_slice_y = slice_y\n",
    "\n",
    "    largest_digit = im[best_slice_x, best_slice_y]\n",
    "    X_train_extracted.append(largest_digit)\n"
   ]
  },
  {
   "cell_type": "code",
   "execution_count": 246,
   "metadata": {
    "scrolled": true
   },
   "outputs": [
    {
     "data": {
      "image/png": "[encoded data removed]",
      "text/plain": [
       "<matplotlib.figure.Figure at 0x13ec51208>"
      ]
     },
     "metadata": {},
     "output_type": "display_data"
    },
    {
     "name": "stdout",
     "output_type": "stream",
     "text": [
      "[ 1.]\n"
     ]
    }
   ],
   "source": [
    "########################### VISUALIZING DATA ON EXTRACTED TRAINING SET ###############################################\n",
    "num = 60\n",
    "plt.imshow(ndimage.median_filter(X_train_extracted[num],1)) # to visualize only\n",
    "plt.show()\n",
    "print(Y_train[num])"
   ]
  },
  {
   "cell_type": "code",
   "execution_count": 247,
   "metadata": {
    "collapsed": true
   },
   "outputs": [],
   "source": [
    "########################### RESIZING AND BINARIZING IMAGES IN NEW TRAINING SET ##################################################\n",
    "resized_arr = []\n",
    "for image in X_train_extracted:\n",
    "    resized_image = imresize(image, (30,30))\n",
    "    resized_arr.append(resized_image)\n",
    "\n",
    "#Binarize the images\n",
    "resized_arr_bin = np.where(np.array(resized_arr)>125, 1, 0)"
   ]
  },
  {
   "cell_type": "code",
   "execution_count": 249,
   "metadata": {},
   "outputs": [
    {
     "data": {
      "image/png": "[encoded data removed]",
      "text/plain": [
       "<matplotlib.figure.Figure at 0x192edada0>"
      ]
     },
     "metadata": {},
     "output_type": "display_data"
    },
    {
     "name": "stdout",
     "output_type": "stream",
     "text": [
      "[ 1.]\n"
     ]
    }
   ],
   "source": [
    "########################### VISUALIZING DATA ON RESIZED TRAINING SET ###############################################\n",
    "num = 60\n",
    "plt.imshow(resized_arr_bin[num], cmap = \"gray\") # to visualize only\n",
    "plt.show()\n",
    "print(Y_train[num])"
   ]
  },
  {
   "cell_type": "code",
   "execution_count": null,
   "metadata": {
    "collapsed": true
   },
   "outputs": [],
   "source": [
    "########################## SUPPORT VECTOR MACHINE CLASSIFIER ################################\n",
    "svm_clf = SVC()\n",
    "#Train the classifier\n",
    "svm_fit = svm_clf.fit(X_train, Y_train)\n",
    "#Predict labels\n",
    "svm_predict = svm_fit.predict(X_test)\n",
    "np.savetxt('svm_labels.csv', svm_predict, delimiter=',')"
   ]
  },
  {
   "cell_type": "code",
   "execution_count": null,
   "metadata": {
    "collapsed": true
   },
   "outputs": [],
   "source": [
    "########################## LOGISTIC REGRESSION CLASSIFIER ###################################\n",
    "lg_clf = LogisticRegression()\n",
    "#Train the classifier\n",
    "lg_fit = lg_clf.fit(X_train, Y_train)\n",
    "#Predict labels\n",
    "lg_predict = lg_fit.predict(X_test)"
   ]
  },
  {
   "cell_type": "code",
   "execution_count": null,
   "metadata": {
    "collapsed": true
   },
   "outputs": [],
   "source": [
    "########################## FEED FORWARD NEURAL NETWORK ########################################\n",
    "N, D_in, H, D_out = 64, 1000, 100, 10\n",
    "\n",
    "# Create random input and output data\n",
    "x = np.random.randn(N, D_in)\n",
    "y = np.random.randn(N, D_out)\n",
    "\n",
    "# Randomly initialize weights\n",
    "w1 = np.random.randn(D_in, H)\n",
    "w2 = np.random.randn(H, D_out)\n",
    "\n",
    "learning_rate = 1e-6\n",
    "for t in range(500):\n",
    "    # Forward pass: compute predicted y\n",
    "    h = x.dot(w1)\n",
    "    h_relu = np.maximum(h, 0)\n",
    "    y_pred = h_relu.dot(w2)\n",
    "\n",
    "    # Compute and print loss\n",
    "    loss = np.square(y_pred - y).sum()\n",
    "    print(t, loss)\n",
    "\n",
    "    # Backprop to compute gradients of w1 and w2 with respect to loss\n",
    "    grad_y_pred = 2.0 * (y_pred - y)\n",
    "    grad_w2 = h_relu.T.dot(grad_y_pred)\n",
    "    grad_h_relu = grad_y_pred.dot(w2.T)\n",
    "    grad_h = grad_h_relu.copy()\n",
    "    grad_h[h < 0] = 0\n",
    "    grad_w1 = x.T.dot(grad_h)\n",
    "\n",
    "    # Update weights\n",
    "    w1 -= learning_rate * grad_w1\n",
    "    w2 -= learning_rate * grad_w2"
   ]
  }
 ],
 "metadata": {
  "kernelspec": {
   "display_name": "Python 2",
   "language": "python",
   "name": "python2"
  },
  "language_info": {
   "codemirror_mode": {
    "name": "ipython",
    "version": 2
   },
   "file_extension": ".py",
   "mimetype": "text/x-python",
   "name": "python",
   "nbconvert_exporter": "python",
   "pygments_lexer": "ipython2",
   "version": "2.7.13"
  }
 },
 "nbformat": 4,
 "nbformat_minor": 2
}
